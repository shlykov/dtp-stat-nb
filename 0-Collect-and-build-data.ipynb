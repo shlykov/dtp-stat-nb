{
 "cells": [
  {
   "cell_type": "markdown",
   "metadata": {
    "pycharm": {
     "name": "#%% md\n"
    }
   },
   "source": [
    "# Загрузка открытых данных с dtp-stat.ru\n",
    "Это подготовительный блокнот для загрузки и объеденения данных.\n",
    "\n",
    "См [блокнот с анализом](1-Dtp-analysis.ipynb)"
   ]
  },
  {
   "cell_type": "markdown",
   "metadata": {
    "pycharm": {
     "name": "#%% md\n"
    }
   },
   "source": [
    "## Загрузка данных в локальные файлы"
   ]
  },
  {
   "cell_type": "code",
   "execution_count": null,
   "metadata": {
    "collapsed": true,
    "pycharm": {
     "name": "#%%\n"
    }
   },
   "outputs": [],
   "source": [
    "import requests as r\n",
    "import os\n",
    "import aiohttp\n",
    "from bs4 import BeautifulSoup as bs\n",
    "\n",
    "links = []\n",
    "resp = r.get('https://dtp-stat.ru/opendata/')\n",
    "if resp.ok:\n",
    "    soup = bs(resp.text, \"html.parser\")\n",
    "    for link in soup.findAll('a'):\n",
    "        url = link.get('href')\n",
    "        if '.geojson' in url: links.append('https://dtp-stat.ru' + url)\n",
    "if len(links) == 85:\n",
    "    print('Все регионы присутствуют на сайте. Загружаем')\n",
    "else:\n",
    "    print(\"Some regions are missed\")\n",
    "async with aiohttp.ClientSession() as session:\n",
    "    for link in links:\n",
    "        async with session.get(link) as resp:\n",
    "            file_name = os.path.basename(link)\n",
    "            with open('data/dtp-stat/' + file_name, 'w') as f:\n",
    "                f.write(await resp.text())\n",
    "                print('.', end='')\n",
    "print(' готово.', end='')"
   ]
  },
  {
   "cell_type": "markdown",
   "metadata": {},
   "source": [
    "## Склейка файлов в один большой\n",
    "Склеиваем все скачанные geojson файлы в один большой. Понадобится *много*(~15gb) памяти.\n",
    "Этот шаг стоит выполнить если вы собираетесь анализировать или передовать весь массив данных сразу."
   ]
  },
  {
   "cell_type": "code",
   "execution_count": null,
   "metadata": {
    "pycharm": {
     "name": "#%%\n"
    }
   },
   "outputs": [],
   "source": [
    "import glob\n",
    "\n",
    "files = glob.glob('data/dtp-stat/*')\n",
    "import json\n",
    "\n",
    "features = []\n",
    "for file in files:\n",
    "    with open(file) as f:\n",
    "        d = json.load(f)\n",
    "        features.extend(d['features'])\n",
    "result = {\n",
    "    \"type\": \"FeatureCollection\",\n",
    "    \"features\": features\n",
    "}\n",
    "with open('data/dtp-stat/russia.geojson', 'w') as f:\n",
    "    json.dump(result, f, ensure_ascii=False)\n",
    "del result\n",
    "del features"
   ]
  }
 ],
 "metadata": {
  "kernelspec": {
   "display_name": "Python 3 (ipykernel)",
   "language": "python",
   "name": "python3"
  },
  "language_info": {
   "codemirror_mode": {
    "name": "ipython",
    "version": 3
   },
   "file_extension": ".py",
   "mimetype": "text/x-python",
   "name": "python",
   "nbconvert_exporter": "python",
   "pygments_lexer": "ipython3",
   "version": "3.8.12"
  }
 },
 "nbformat": 4,
 "nbformat_minor": 1
}