{
 "cells": [
  {
   "cell_type": "markdown",
   "metadata": {
    "pycharm": {
     "name": "#%% md\n"
    }
   },
   "source": [
    "# Анализ ДТП в России на основе данных dtp-stat.ru\n",
    "Это пример простого анализа статистики ДТП в России.\n",
    "Посмотрим на следующие свойства данных:\n",
    "- Структурированность данных\n",
    "- Чистота данных\n",
    "- Распределения наблюдаемых значений и признаков\n",
    "- Корреляция по значений по признакам"
   ]
  },
  {
   "cell_type": "markdown",
   "metadata": {
    "pycharm": {
     "name": "#%% md\n"
    }
   },
   "source": [
    "## Шаг -1. Загрузка данных в локальные файлы\n",
    "Этот шаг можно пропустить, если вы уже загружали файлы ранее."
   ]
  },
  {
   "cell_type": "code",
   "execution_count": null,
   "metadata": {
    "collapsed": true,
    "pycharm": {
     "name": "#%%\n"
    }
   },
   "outputs": [],
   "source": [
    "import requests as r\n",
    "import os\n",
    "import aiohttp\n",
    "from bs4 import BeautifulSoup as bs\n",
    "\n",
    "links = []\n",
    "resp = r.get('https://dtp-stat.ru/opendata/')\n",
    "if resp.ok:\n",
    "    soup = bs(resp.text, \"html.parser\")\n",
    "    for link in soup.findAll('a'):\n",
    "        url = link.get('href')\n",
    "        if '.geojson' in url: links.append('https://dtp-stat.ru' + url)\n",
    "if len(links) == 85:\n",
    "    print('Все регионы присутствуют на сайте. Загружаем')\n",
    "else:\n",
    "    print(\"Some regions are missed\")\n",
    "async with aiohttp.ClientSession() as session:\n",
    "    for link in links:\n",
    "        async with session.get(link) as resp:\n",
    "            file_name = os.path.basename(link)\n",
    "            with open('data/dtp-stat/' + file_name, 'w') as f:\n",
    "                f.write(await resp.text())\n",
    "                print('.', end='')\n",
    "print(' готово.', end='')"
   ]
  },
  {
   "cell_type": "markdown",
   "metadata": {},
   "source": [
    "## Шаг 0. Склейка файлов в один большой\n",
    "Склеиваем все скачанные geojson файлы в один большой. Понадобится *много*(~15gb) памяти.\n",
    "\n",
    "Этот шаг стоит выполнить если вы собираетесь анализировать весь массив данных сразу."
   ]
  },
  {
   "cell_type": "code",
   "execution_count": null,
   "metadata": {
    "pycharm": {
     "name": "#%%\n"
    }
   },
   "outputs": [],
   "source": [
    "import glob\n",
    "\n",
    "files = glob.glob('data/dtp-stat/*')\n",
    "import json\n",
    "\n",
    "features = []\n",
    "for file in files:\n",
    "    with open(file) as f:\n",
    "        d = json.load(f)\n",
    "        features.extend(d['features'])\n",
    "result = {\n",
    "    \"type\": \"FeatureCollection\",\n",
    "    \"features\": features\n",
    "}\n",
    "with open('data/dtp-stat/russia.geojson', 'w') as f:\n",
    "    json.dump(result, f, ensure_ascii=False)\n",
    "del result\n",
    "del features"
   ]
  },
  {
   "cell_type": "markdown",
   "metadata": {},
   "source": [
    "## Шаг 1.  Готовим pandas фрейм\n",
    "\n",
    "Загружаем данные geojson файла в pandas фрейм. Посмотрим на структуру \n"
   ]
  },
  {
   "cell_type": "code",
   "execution_count": 1,
   "metadata": {
    "pycharm": {
     "name": "#%%\n"
    }
   },
   "outputs": [
    {
     "data": {
      "text/html": [
       "<div>\n",
       "<style scoped>\n",
       "    .dataframe tbody tr th:only-of-type {\n",
       "        vertical-align: middle;\n",
       "    }\n",
       "\n",
       "    .dataframe tbody tr th {\n",
       "        vertical-align: top;\n",
       "    }\n",
       "\n",
       "    .dataframe thead th {\n",
       "        text-align: right;\n",
       "    }\n",
       "</style>\n",
       "<table border=\"1\" class=\"dataframe\">\n",
       "  <thead>\n",
       "    <tr style=\"text-align: right;\">\n",
       "      <th></th>\n",
       "      <th>id</th>\n",
       "      <th>tags</th>\n",
       "      <th>light</th>\n",
       "      <th>point</th>\n",
       "      <th>nearby</th>\n",
       "      <th>region</th>\n",
       "      <th>scheme</th>\n",
       "      <th>address</th>\n",
       "      <th>weather</th>\n",
       "      <th>category</th>\n",
       "      <th>datetime</th>\n",
       "      <th>severity</th>\n",
       "      <th>vehicles</th>\n",
       "      <th>dead_count</th>\n",
       "      <th>participants</th>\n",
       "      <th>injured_count</th>\n",
       "      <th>parent_region</th>\n",
       "      <th>road_conditions</th>\n",
       "      <th>participants_count</th>\n",
       "      <th>participant_categories</th>\n",
       "    </tr>\n",
       "  </thead>\n",
       "  <tbody>\n",
       "    <tr>\n",
       "      <th>0</th>\n",
       "      <td>2311491</td>\n",
       "      <td>[Дорожно-транспортные происшествия]</td>\n",
       "      <td>В темное время суток, освещение отсутствует</td>\n",
       "      <td>{'lat': 53.342, 'long': 83.6903}</td>\n",
       "      <td>[Многоквартирные жилые дома, Административные ...</td>\n",
       "      <td>Барнаул</td>\n",
       "      <td>610</td>\n",
       "      <td>г Барнаул, тракт Павловский, 249 а</td>\n",
       "      <td>[Ясно]</td>\n",
       "      <td>Наезд на препятствие</td>\n",
       "      <td>2017-09-04 22:15:00</td>\n",
       "      <td>Легкий</td>\n",
       "      <td>[{'year': 2002, 'brand': 'TOYOTA', 'color': 'Ч...</td>\n",
       "      <td>0</td>\n",
       "      <td>[]</td>\n",
       "      <td>1</td>\n",
       "      <td>Алтайский край</td>\n",
       "      <td>[Сухое]</td>\n",
       "      <td>2</td>\n",
       "      <td>[Все участники]</td>\n",
       "    </tr>\n",
       "    <tr>\n",
       "      <th>1</th>\n",
       "      <td>2489516</td>\n",
       "      <td>[Дорожно-транспортные происшествия, ДТП и пост...</td>\n",
       "      <td>Светлое время суток</td>\n",
       "      <td>{'lat': 53.369248, 'long': 83.699802}</td>\n",
       "      <td>[Многоквартирные жилые дома, Нерегулируемый пе...</td>\n",
       "      <td>Барнаул</td>\n",
       "      <td>300</td>\n",
       "      <td>г Барнаул, ул Юрина, 241</td>\n",
       "      <td>[Дождь]</td>\n",
       "      <td>Столкновение</td>\n",
       "      <td>2020-09-24 09:30:00</td>\n",
       "      <td>Легкий</td>\n",
       "      <td>[{'year': 2006, 'brand': 'SUBARU', 'color': 'С...</td>\n",
       "      <td>0</td>\n",
       "      <td>[]</td>\n",
       "      <td>2</td>\n",
       "      <td>Алтайский край</td>\n",
       "      <td>[Мокрое]</td>\n",
       "      <td>3</td>\n",
       "      <td>[Дети, Все участники]</td>\n",
       "    </tr>\n",
       "    <tr>\n",
       "      <th>2</th>\n",
       "      <td>2565463</td>\n",
       "      <td>[Дорожно-транспортные происшествия, ДТП и пост...</td>\n",
       "      <td>Светлое время суток</td>\n",
       "      <td>{'lat': 53.343391, 'long': 83.704684}</td>\n",
       "      <td>[Многоквартирные жилые дома, Школа либо иная д...</td>\n",
       "      <td>Барнаул</td>\n",
       "      <td>740</td>\n",
       "      <td>г Барнаул, тракт Павловский, 68</td>\n",
       "      <td>[Ясно]</td>\n",
       "      <td>Наезд на пешехода</td>\n",
       "      <td>2021-04-20 18:55:00</td>\n",
       "      <td>Легкий</td>\n",
       "      <td>[{'year': 1988, 'brand': 'TOYOTA', 'color': 'Б...</td>\n",
       "      <td>0</td>\n",
       "      <td>[{'role': 'Пешеход', 'gender': 'Женский', 'vio...</td>\n",
       "      <td>1</td>\n",
       "      <td>Алтайский край</td>\n",
       "      <td>[Сухое, Отсутствие, плохая различимость горизо...</td>\n",
       "      <td>2</td>\n",
       "      <td>[Дети, Пешеходы, Все участники]</td>\n",
       "    </tr>\n",
       "    <tr>\n",
       "      <th>3</th>\n",
       "      <td>2565477</td>\n",
       "      <td>[Дорожно-транспортные происшествия]</td>\n",
       "      <td>Светлое время суток</td>\n",
       "      <td>{'lat': 53.380807, 'long': 83.690007}</td>\n",
       "      <td>[Жилые дома индивидуальной застройки, Нерегули...</td>\n",
       "      <td>Барнаул</td>\n",
       "      <td>820</td>\n",
       "      <td>г Барнаул, ул Совхозная, 10 а</td>\n",
       "      <td>[Пасмурно]</td>\n",
       "      <td>Наезд на пешехода</td>\n",
       "      <td>2021-04-28 12:20:00</td>\n",
       "      <td>Легкий</td>\n",
       "      <td>[{'year': 2011, 'brand': 'FIAT', 'color': 'Бел...</td>\n",
       "      <td>0</td>\n",
       "      <td>[{'role': 'Пешеход', 'gender': 'Женский', 'vio...</td>\n",
       "      <td>1</td>\n",
       "      <td>Алтайский край</td>\n",
       "      <td>[Сухое]</td>\n",
       "      <td>2</td>\n",
       "      <td>[Пешеходы, Все участники]</td>\n",
       "    </tr>\n",
       "    <tr>\n",
       "      <th>4</th>\n",
       "      <td>2565484</td>\n",
       "      <td>[Дорожно-транспортные происшествия]</td>\n",
       "      <td>В темное время суток, освещение включено</td>\n",
       "      <td>{'lat': 53.351736, 'long': 83.718964}</td>\n",
       "      <td>[Многоквартирные жилые дома, Жилые дома индиви...</td>\n",
       "      <td>Барнаул</td>\n",
       "      <td>770</td>\n",
       "      <td>г Барнаул, ул Советской Армии, 123</td>\n",
       "      <td>[Дождь]</td>\n",
       "      <td>Наезд на пешехода</td>\n",
       "      <td>2021-04-27 21:00:00</td>\n",
       "      <td>Тяжёлый</td>\n",
       "      <td>[{'year': 2002, 'brand': 'HONDA', 'color': 'Че...</td>\n",
       "      <td>0</td>\n",
       "      <td>[{'role': 'Пешеход', 'gender': 'Мужской', 'vio...</td>\n",
       "      <td>1</td>\n",
       "      <td>Алтайский край</td>\n",
       "      <td>[Мокрое, Отсутствие, плохая различимость гориз...</td>\n",
       "      <td>2</td>\n",
       "      <td>[Пешеходы, Все участники]</td>\n",
       "    </tr>\n",
       "  </tbody>\n",
       "</table>\n",
       "</div>"
      ],
      "text/plain": [
       "        id                                               tags  \\\n",
       "0  2311491                [Дорожно-транспортные происшествия]   \n",
       "1  2489516  [Дорожно-транспортные происшествия, ДТП и пост...   \n",
       "2  2565463  [Дорожно-транспортные происшествия, ДТП и пост...   \n",
       "3  2565477                [Дорожно-транспортные происшествия]   \n",
       "4  2565484                [Дорожно-транспортные происшествия]   \n",
       "\n",
       "                                         light  \\\n",
       "0  В темное время суток, освещение отсутствует   \n",
       "1                          Светлое время суток   \n",
       "2                          Светлое время суток   \n",
       "3                          Светлое время суток   \n",
       "4     В темное время суток, освещение включено   \n",
       "\n",
       "                                   point  \\\n",
       "0       {'lat': 53.342, 'long': 83.6903}   \n",
       "1  {'lat': 53.369248, 'long': 83.699802}   \n",
       "2  {'lat': 53.343391, 'long': 83.704684}   \n",
       "3  {'lat': 53.380807, 'long': 83.690007}   \n",
       "4  {'lat': 53.351736, 'long': 83.718964}   \n",
       "\n",
       "                                              nearby   region scheme  \\\n",
       "0  [Многоквартирные жилые дома, Административные ...  Барнаул    610   \n",
       "1  [Многоквартирные жилые дома, Нерегулируемый пе...  Барнаул    300   \n",
       "2  [Многоквартирные жилые дома, Школа либо иная д...  Барнаул    740   \n",
       "3  [Жилые дома индивидуальной застройки, Нерегули...  Барнаул    820   \n",
       "4  [Многоквартирные жилые дома, Жилые дома индиви...  Барнаул    770   \n",
       "\n",
       "                              address     weather              category  \\\n",
       "0  г Барнаул, тракт Павловский, 249 а      [Ясно]  Наезд на препятствие   \n",
       "1            г Барнаул, ул Юрина, 241     [Дождь]          Столкновение   \n",
       "2     г Барнаул, тракт Павловский, 68      [Ясно]     Наезд на пешехода   \n",
       "3       г Барнаул, ул Совхозная, 10 а  [Пасмурно]     Наезд на пешехода   \n",
       "4  г Барнаул, ул Советской Армии, 123     [Дождь]     Наезд на пешехода   \n",
       "\n",
       "              datetime severity  \\\n",
       "0  2017-09-04 22:15:00   Легкий   \n",
       "1  2020-09-24 09:30:00   Легкий   \n",
       "2  2021-04-20 18:55:00   Легкий   \n",
       "3  2021-04-28 12:20:00   Легкий   \n",
       "4  2021-04-27 21:00:00  Тяжёлый   \n",
       "\n",
       "                                            vehicles  dead_count  \\\n",
       "0  [{'year': 2002, 'brand': 'TOYOTA', 'color': 'Ч...           0   \n",
       "1  [{'year': 2006, 'brand': 'SUBARU', 'color': 'С...           0   \n",
       "2  [{'year': 1988, 'brand': 'TOYOTA', 'color': 'Б...           0   \n",
       "3  [{'year': 2011, 'brand': 'FIAT', 'color': 'Бел...           0   \n",
       "4  [{'year': 2002, 'brand': 'HONDA', 'color': 'Че...           0   \n",
       "\n",
       "                                        participants  injured_count  \\\n",
       "0                                                 []              1   \n",
       "1                                                 []              2   \n",
       "2  [{'role': 'Пешеход', 'gender': 'Женский', 'vio...              1   \n",
       "3  [{'role': 'Пешеход', 'gender': 'Женский', 'vio...              1   \n",
       "4  [{'role': 'Пешеход', 'gender': 'Мужской', 'vio...              1   \n",
       "\n",
       "    parent_region                                    road_conditions  \\\n",
       "0  Алтайский край                                            [Сухое]   \n",
       "1  Алтайский край                                           [Мокрое]   \n",
       "2  Алтайский край  [Сухое, Отсутствие, плохая различимость горизо...   \n",
       "3  Алтайский край                                            [Сухое]   \n",
       "4  Алтайский край  [Мокрое, Отсутствие, плохая различимость гориз...   \n",
       "\n",
       "   participants_count           participant_categories  \n",
       "0                   2                  [Все участники]  \n",
       "1                   3            [Дети, Все участники]  \n",
       "2                   2  [Дети, Пешеходы, Все участники]  \n",
       "3                   2        [Пешеходы, Все участники]  \n",
       "4                   2        [Пешеходы, Все участники]  "
      ]
     },
     "execution_count": 1,
     "metadata": {},
     "output_type": "execute_result"
    }
   ],
   "source": [
    "import pandas as pd\n",
    "import json\n",
    "from IPython.display import display, Markdown\n",
    "\n",
    "FILE_NAME = 'data/dtp-stat/altaiskii-krai.geojson'\n",
    "\n",
    "with open(FILE_NAME) as f:\n",
    "    d = map(lambda x: x['properties'], json.load(f)['features'])\n",
    "df = pd.DataFrame.from_dict(d)\n",
    "df.head(5)"
   ]
  },
  {
   "cell_type": "markdown",
   "metadata": {
    "pycharm": {
     "name": "#%% md\n"
    }
   },
   "source": [
    "Предущий шаг загрузил данные в датафрейм в памяти и вывел первые 5 строк фрейма.\n",
    "С этим уже можно работать, но нужно прибраться в типах данных.\n",
    "Добавим индекс, дату, списки и строки сделаем категориями."
   ]
  },
  {
   "cell_type": "code",
   "execution_count": 2,
   "metadata": {
    "pycharm": {
     "name": "#%%\n"
    }
   },
   "outputs": [],
   "source": [
    "df.set_index('id', inplace=True)\n",
    "df['datetime'] = pd.to_datetime(df['datetime'])\n",
    "for column in ['scheme', 'category', 'severity', 'region', 'parent_region']:\n",
    "    df[column] = df[column].astype('category')\n",
    "df['address'] = df['address'].astype('string')"
   ]
  },
  {
   "cell_type": "markdown",
   "metadata": {
    "pycharm": {
     "name": "#%% md\n"
    }
   },
   "source": [
    "В наборе данных у нас пока присуствуют три основных показателя\n",
    " - `participants_count`\n",
    " - `injured_count`\n",
    " - `dead_count`\n",
    "Посмотрим на их описание"
   ]
  },
  {
   "cell_type": "code",
   "execution_count": 4,
   "metadata": {
    "collapsed": true,
    "pycharm": {
     "name": "#%%\n"
    }
   },
   "outputs": [
    {
     "data": {
      "text/markdown": [
       "|       |   participants_count |\n",
       "|:------|---------------------:|\n",
       "| count |          20223       |\n",
       "| mean  |              2.40533 |\n",
       "| std   |              1.1026  |\n",
       "| min   |              1       |\n",
       "| 25%   |              2       |\n",
       "| 50%   |              2       |\n",
       "| 75%   |              3       |\n",
       "| max   |             38       |"
      ],
      "text/plain": [
       "<IPython.core.display.Markdown object>"
      ]
     },
     "metadata": {},
     "output_type": "display_data"
    },
    {
     "data": {
      "text/markdown": [
       "|       |   injured_count |\n",
       "|:------|----------------:|\n",
       "| count |    20223        |\n",
       "| mean  |        1.27671  |\n",
       "| std   |        0.894425 |\n",
       "| min   |        0        |\n",
       "| 25%   |        1        |\n",
       "| 50%   |        1        |\n",
       "| 75%   |        1        |\n",
       "| max   |       34        |"
      ],
      "text/plain": [
       "<IPython.core.display.Markdown object>"
      ]
     },
     "metadata": {},
     "output_type": "display_data"
    },
    {
     "data": {
      "text/markdown": [
       "|       |    dead_count |\n",
       "|:------|--------------:|\n",
       "| count | 20223         |\n",
       "| mean  |     0.0891559 |\n",
       "| std   |     0.348517  |\n",
       "| min   |     0         |\n",
       "| 25%   |     0         |\n",
       "| 50%   |     0         |\n",
       "| 75%   |     0         |\n",
       "| max   |     8         |"
      ],
      "text/plain": [
       "<IPython.core.display.Markdown object>"
      ]
     },
     "metadata": {},
     "output_type": "display_data"
    }
   ],
   "source": [
    "for column in ['participants_count', 'injured_count', 'dead_count']:\n",
    "    display(Markdown(df[column].describe().to_markdown()))"
   ]
  },
  {
   "cell_type": "markdown",
   "metadata": {
    "pycharm": {
     "name": "#%% md\n"
    }
   },
   "source": [
    "Следом рассмотрим категорийные признаки"
   ]
  },
  {
   "cell_type": "code",
   "execution_count": 5,
   "metadata": {
    "collapsed": true,
    "pycharm": {
     "name": "#%ww%\n"
    }
   },
   "outputs": [
    {
     "data": {
      "text/markdown": [
       "|        |   scheme |\n",
       "|:-------|---------:|\n",
       "| count  |    19516 |\n",
       "| unique |       60 |\n",
       "| top    |      740 |\n",
       "| freq   |     1620 |"
      ],
      "text/plain": [
       "<IPython.core.display.Markdown object>"
      ]
     },
     "metadata": {},
     "output_type": "display_data"
    },
    {
     "data": {
      "text/markdown": [
       "|     |   scheme |\n",
       "|----:|---------:|\n",
       "| 740 |     1620 |\n",
       "| 500 |     1473 |\n",
       "| 610 |     1415 |\n",
       "| 960 |     1272 |\n",
       "| 070 |     1271 |\n",
       "| 820 |     1211 |\n",
       "| 600 |     1096 |\n",
       "| 200 |     1059 |\n",
       "| 300 |      886 |\n",
       "| 880 |      635 |\n",
       "| 830 |      573 |\n",
       "| 840 |      558 |\n",
       "| 710 |      507 |\n",
       "| 950 |      489 |\n",
       "| 430 |      461 |\n",
       "| 700 |      421 |\n",
       "| 910 |      367 |\n",
       "| 130 |      325 |\n",
       "| 940 |      288 |\n",
       "| 210 |      287 |\n",
       "| 220 |      284 |\n",
       "| 140 |      243 |\n",
       "| 850 |      196 |\n",
       "| 930 |      187 |\n",
       "| 760 |      176 |\n",
       "| 730 |      169 |\n",
       "| 720 |      141 |\n",
       "| 860 |      136 |\n",
       "| 030 |      136 |\n",
       "| 800 |      127 |\n",
       "| 770 |      119 |\n",
       "| 420 |      113 |\n",
       "| 330 |      104 |\n",
       "| 040 |      102 |\n",
       "| 400 |       98 |\n",
       "| 870 |       95 |\n",
       "| 120 |       94 |\n",
       "| 060 |       90 |\n",
       "| 810 |       89 |\n",
       "| 110 |       76 |\n",
       "| 050 |       71 |\n",
       "| 920 |       67 |\n",
       "| 410 |       65 |\n",
       "| 750 |       57 |\n",
       "| 780 |       53 |\n",
       "| 010 |       47 |\n",
       "| 900 |       36 |\n",
       "| 100 |       35 |\n",
       "| 090 |       22 |\n",
       "| 190 |       17 |\n",
       "| 980 |       14 |\n",
       "| 020 |       12 |\n",
       "| 440 |       10 |\n",
       "| 340 |        6 |\n",
       "| 230 |        4 |\n",
       "| 320 |        3 |\n",
       "| 970 |        3 |\n",
       "| 620 |        2 |\n",
       "| 310 |        2 |\n",
       "| 630 |        1 |"
      ],
      "text/plain": [
       "<IPython.core.display.Markdown object>"
      ]
     },
     "metadata": {},
     "output_type": "display_data"
    },
    {
     "data": {
      "text/markdown": [
       "|        | category          |\n",
       "|:-------|:------------------|\n",
       "| count  | 20223             |\n",
       "| unique | 18                |\n",
       "| top    | Наезд на пешехода |\n",
       "| freq   | 7053              |"
      ],
      "text/plain": [
       "<IPython.core.display.Markdown object>"
      ]
     },
     "metadata": {},
     "output_type": "display_data"
    },
    {
     "data": {
      "text/markdown": [
       "|                                                                                                                       |   category |\n",
       "|:----------------------------------------------------------------------------------------------------------------------|-----------:|\n",
       "| Наезд на пешехода                                                                                                     |       7053 |\n",
       "| Столкновение                                                                                                          |       6940 |\n",
       "| Опрокидывание                                                                                                         |       1667 |\n",
       "| Падение пассажира                                                                                                     |       1288 |\n",
       "| Съезд с дороги                                                                                                        |       1004 |\n",
       "| Наезд на препятствие                                                                                                  |        910 |\n",
       "| Наезд на велосипедиста                                                                                                |        687 |\n",
       "| Наезд на стоящее ТС                                                                                                   |        497 |\n",
       "| Иной вид ДТП                                                                                                          |         61 |\n",
       "| Наезд на животное                                                                                                     |         37 |\n",
       "| Наезд на гужевой транспорт                                                                                            |         19 |\n",
       "| Отбрасывание предмета                                                                                                 |         19 |\n",
       "| Наезд на лицо, не являющееся участником дорожного движения, осуществляющее производство работ                         |         18 |\n",
       "| Наезд на лицо, не являющееся участником дорожного движения, осуществляющее несение службы                             |         14 |\n",
       "| Наезд на лицо, не являющееся участником дорожного движения, осуществляющее какую-либо другую деятельность             |          4 |\n",
       "| Падение груза                                                                                                         |          2 |\n",
       "| Наезд на внезапно возникшее препятствие                                                                               |          2 |\n",
       "| Возгорание вследствие технической неисправности движущегося или остановившегося ТС, участвующего в дорожном движении. |          1 |"
      ],
      "text/plain": [
       "<IPython.core.display.Markdown object>"
      ]
     },
     "metadata": {},
     "output_type": "display_data"
    },
    {
     "data": {
      "text/markdown": [
       "|        | severity   |\n",
       "|:-------|:-----------|\n",
       "| count  | 20223      |\n",
       "| unique | 3          |\n",
       "| top    | Легкий     |\n",
       "| freq   | 12866      |"
      ],
      "text/plain": [
       "<IPython.core.display.Markdown object>"
      ]
     },
     "metadata": {},
     "output_type": "display_data"
    },
    {
     "data": {
      "text/markdown": [
       "|             |   severity |\n",
       "|:------------|-----------:|\n",
       "| Легкий      |      12866 |\n",
       "| Тяжёлый     |       5832 |\n",
       "| С погибшими |       1525 |"
      ],
      "text/plain": [
       "<IPython.core.display.Markdown object>"
      ]
     },
     "metadata": {},
     "output_type": "display_data"
    },
    {
     "data": {
      "text/markdown": [
       "|        | region   |\n",
       "|:-------|:---------|\n",
       "| count  | 20223    |\n",
       "| unique | 68       |\n",
       "| top    | Барнаул  |\n",
       "| freq   | 8823     |"
      ],
      "text/plain": [
       "<IPython.core.display.Markdown object>"
      ]
     },
     "metadata": {},
     "output_type": "display_data"
    },
    {
     "data": {
      "text/markdown": [
       "|                             |   region |\n",
       "|:----------------------------|---------:|\n",
       "| Барнаул                     |     8823 |\n",
       "| Бийск                       |     1720 |\n",
       "| Рубцовск                    |      938 |\n",
       "| Первомайский район          |      731 |\n",
       "| Новоалтайск                 |      702 |\n",
       "| Тальменский район           |      373 |\n",
       "| Павловский район            |      350 |\n",
       "| Бийский район               |      339 |\n",
       "| Алейский район              |      333 |\n",
       "| Славгородский район         |      307 |\n",
       "| Алтайский район             |      284 |\n",
       "| Троицкий район              |      233 |\n",
       "| Заринск                     |      215 |\n",
       "| Рубцовский район            |      213 |\n",
       "| Косихинский район           |      207 |\n",
       "| Зональный район             |      207 |\n",
       "| Смоленский район            |      204 |\n",
       "| Благовещенский район        |      195 |\n",
       "| Шипуновский район           |      188 |\n",
       "| Каменский район             |      172 |\n",
       "| Поспелихинский район        |      152 |\n",
       "| Заринский район             |      132 |\n",
       "| Шелаболихинский район       |      130 |\n",
       "| Топчихинский район          |      124 |\n",
       "| Мамонтовский район          |      121 |\n",
       "| Целинный район              |      117 |\n",
       "| Калманский район            |      114 |\n",
       "| Кулундинский район          |      112 |\n",
       "| Ребрихинский район          |      106 |\n",
       "| Михайловский район          |      105 |\n",
       "| Красногорский район         |      103 |\n",
       "| Залесовский район           |       96 |\n",
       "| Яровое                      |       95 |\n",
       "| Локтевский район            |       92 |\n",
       "| Егорьевский район           |       87 |\n",
       "| Немецкий национальный район |       84 |\n",
       "| Романовский район           |       84 |\n",
       "| Змеиногорский район         |       79 |\n",
       "| Советский район             |       74 |\n",
       "| Краснощековский район       |       71 |\n",
       "| Волчихинский район          |       68 |\n",
       "| Ключевский район            |       67 |\n",
       "| Завьяловский район          |       67 |\n",
       "| Хабарский район             |       67 |\n",
       "| Бурлинский район            |       64 |\n",
       "| Усть-Пристанский район      |       61 |\n",
       "| Усть-Калманский район       |       59 |\n",
       "| Солонешенский район         |       58 |\n",
       "| Быстроистокский район       |       58 |\n",
       "| Петропавловский район       |       58 |\n",
       "| Белокуриха                  |       58 |\n",
       "| Крутихинский район          |       58 |\n",
       "| Курьинский район            |       56 |\n",
       "| Родинский район             |       54 |\n",
       "| Тюменцевский район          |       54 |\n",
       "| Панкрушихинский район       |       52 |\n",
       "| Ельцовский район            |       52 |\n",
       "| Третьсяковский район        |       51 |\n",
       "| Угловский район             |       48 |\n",
       "| Тогульский район            |       47 |\n",
       "| Чарышский район             |       45 |\n",
       "| Солтонский район            |       35 |\n",
       "| Новичихинский район         |       35 |\n",
       "| Баевский район              |       34 |\n",
       "| Табунский район             |       32 |\n",
       "| Кытмановский район          |       30 |\n",
       "| Суетский район              |       25 |\n",
       "| Сибирский                   |       18 |"
      ],
      "text/plain": [
       "<IPython.core.display.Markdown object>"
      ]
     },
     "metadata": {},
     "output_type": "display_data"
    },
    {
     "data": {
      "text/markdown": [
       "|        | parent_region   |\n",
       "|:-------|:----------------|\n",
       "| count  | 20223           |\n",
       "| unique | 1               |\n",
       "| top    | Алтайский край  |\n",
       "| freq   | 20223           |"
      ],
      "text/plain": [
       "<IPython.core.display.Markdown object>"
      ]
     },
     "metadata": {},
     "output_type": "display_data"
    },
    {
     "data": {
      "text/markdown": [
       "|                |   parent_region |\n",
       "|:---------------|----------------:|\n",
       "| Алтайский край |           20223 |"
      ],
      "text/plain": [
       "<IPython.core.display.Markdown object>"
      ]
     },
     "metadata": {},
     "output_type": "display_data"
    }
   ],
   "source": [
    "for column in ['scheme', 'category', 'severity', 'region', 'parent_region']:\n",
    "    display(Markdown(df[column].describe().to_markdown()))\n",
    "    display(Markdown(df[column].value_counts().to_markdown()))"
   ]
  },
  {
   "cell_type": "markdown",
   "metadata": {},
   "source": [
    "### ..."
   ]
  },
  {
   "cell_type": "markdown",
   "metadata": {
    "pycharm": {
     "name": "#%% md\n"
    }
   },
   "source": [
    "## Примеры похожих исследований на Kaggle\n",
    "- [https://www.kaggle.com/sobhanmoosavi/us-accidents/tasks](us-accidents)\n",
    "- [https://www.kaggle.com/daveianhickey/2000-16-traffic-flow-england-scotland-wales](1.6 million UK traffic accidents)\n",
    "- [https://www.kaggle.com/amadeus1996/eda-visualizations-for-accidents-in-france](Visualizations for Accidents in France)"
   ]
  }
 ],
 "metadata": {
  "kernelspec": {
   "display_name": "Python 3 (ipykernel)",
   "language": "python",
   "name": "python3"
  },
  "language_info": {
   "codemirror_mode": {
    "name": "ipython",
    "version": 3
   },
   "file_extension": ".py",
   "mimetype": "text/x-python",
   "name": "python",
   "nbconvert_exporter": "python",
   "pygments_lexer": "ipython3",
   "version": "3.8.12"
  }
 },
 "nbformat": 4,
 "nbformat_minor": 1
}
